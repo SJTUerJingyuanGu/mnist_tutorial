{
 "cells": [
  {
   "cell_type": "code",
   "execution_count": 5,
   "metadata": {},
   "outputs": [
    {
     "data": {
      "image/png": "[encoded data removed]",
      "text/plain": [
       "<matplotlib.figure.Figure at 0x1aa09197f98>"
      ]
     },
     "metadata": {},
     "output_type": "display_data"
    },
    {
     "data": {
      "image/png": "[encoded data removed]",
      "text/plain": [
       "<matplotlib.figure.Figure at 0x1aa090864e0>"
      ]
     },
     "metadata": {},
     "output_type": "display_data"
    },
    {
     "data": {
      "image/png": "[encoded data removed]",
      "text/plain": [
       "<matplotlib.figure.Figure at 0x1aa092b6550>"
      ]
     },
     "metadata": {},
     "output_type": "display_data"
    },
    {
     "name": "stdout",
     "output_type": "stream",
     "text": [
      "Training accuracy: 96.00%\n",
      "Testing accuracy: 89.50%\n",
      "Training accuracy: 84.17%\n",
      "Testing accuracy: 82.90%\n",
      "Training accuracy: 98.38%\n",
      "Testing accuracy: 86.60%\n",
      "Training accuracy: 97.77%\n",
      "Testing accuracy: 87.80%\n"
     ]
    }
   ],
   "source": [
    "from sklearn.datasets import fetch_mldata\n",
    "import matplotlib.pyplot as plt\n",
    "\n",
    "# download and read mnist\n",
    "mnist = fetch_mldata('MNIST original')\n",
    "\n",
    "# 'mnist.data' is 70k x 784 array, each row represents the pixels from a 28x28=784 image\n",
    "# 'mnist.target' is 70k x 1 array, each row represents the target class of the corresponding image\n",
    "images = mnist.data\n",
    "targets = mnist.target\n",
    "\n",
    "# make the value of pixels from [0, 255] to [0, 1] for further process\n",
    "X = mnist.data / 255.\n",
    "Y = mnist.target\n",
    "\n",
    "# print the first image of the dataset\n",
    "img1 = X[0].reshape(28, 28)\n",
    "plt.imshow(img1, cmap='gray')\n",
    "plt.show()\n",
    "\n",
    "# print the images after simple transformation\n",
    "img2 = 1 - img1\n",
    "plt.imshow(img2, cmap='gray')\n",
    "plt.show()\n",
    "\n",
    "img3 = img1.transpose()\n",
    "plt.imshow(img3, cmap='gray')\n",
    "plt.show()\n",
    "\n",
    "\n",
    "# split data to train and test (for faster calculation, just use 1/10 data)\n",
    "from sklearn.model_selection import train_test_split\n",
    "X_train, X_test, Y_train, Y_test = train_test_split(X[::10], Y[::10], test_size=1000)\n",
    "\n",
    "\n",
    "# TODO:use logistic regression\n",
    "from sklearn.linear_model import LogisticRegression\n",
    "from sklearn import metrics\n",
    "classifier=LogisticRegression() \n",
    "classifier.fit(X_train,Y_train) \n",
    "y_train = classifier.predict(X_train) \n",
    "y_test = classifier.predict(X_test) \n",
    "train_accuracy = metrics.accuracy_score(Y_train,y_train) \n",
    "test_accuracy = metrics.accuracy_score(Y_test,y_test)\n",
    "print('Training accuracy: %0.2f%%' % (train_accuracy*100))\n",
    "print('Testing accuracy: %0.2f%%' % (test_accuracy*100))\n",
    "\n",
    "\n",
    "# TODO:use naive bayes\n",
    "from sklearn.naive_bayes import BernoulliNB\n",
    "classifier=BernoulliNB() \n",
    "classifier.fit(X_train,Y_train) \n",
    "y_train = classifier.predict(X_train) \n",
    "y_test = classifier.predict(X_test) \n",
    "train_accuracy = metrics.accuracy_score(Y_train,y_train) \n",
    "test_accuracy = metrics.accuracy_score(Y_test,y_test)\n",
    "print('Training accuracy: %0.2f%%' % (train_accuracy*100))\n",
    "print('Testing accuracy: %0.2f%%' % (test_accuracy*100))\n",
    "\n",
    "\n",
    "# TODO:use support vector machine\n",
    "from sklearn.svm import LinearSVC\n",
    "classifier=LinearSVC() \n",
    "classifier.fit(X_train,Y_train) \n",
    "y_train = classifier.predict(X_train) \n",
    "y_test = classifier.predict(X_test) \n",
    "train_accuracy = metrics.accuracy_score(Y_train,y_train) \n",
    "test_accuracy = metrics.accuracy_score(Y_test,y_test)\n",
    "print('Training accuracy: %0.2f%%' % (train_accuracy*100))\n",
    "print('Testing accuracy: %0.2f%%' % (test_accuracy*100))\n",
    "\n",
    "\n",
    "# TODO:use SVM with another group of parameters\n",
    "classifier=LinearSVC(C=0.5)  \n",
    "classifier.fit(X_train,Y_train) \n",
    "y_train = classifier.predict(X_train) \n",
    "y_test = classifier.predict(X_test) \n",
    "train_accuracy = metrics.accuracy_score(Y_train,y_train) \n",
    "test_accuracy = metrics.accuracy_score(Y_test,y_test)\n",
    "print('Training accuracy: %0.2f%%' % (train_accuracy*100))\n",
    "print('Testing accuracy: %0.2f%%' % (test_accuracy*100))"
   ]
  },
  {
   "cell_type": "code",
   "execution_count": null,
   "metadata": {},
   "outputs": [],
   "source": []
  }
 ],
 "metadata": {
  "kernelspec": {
   "display_name": "Python 3",
   "language": "python",
   "name": "python3"
  },
  "language_info": {
   "codemirror_mode": {
    "name": "ipython",
    "version": 3
   },
   "file_extension": ".py",
   "mimetype": "text/x-python",
   "name": "python",
   "nbconvert_exporter": "python",
   "pygments_lexer": "ipython3",
   "version": "3.6.4"
  }
 },
 "nbformat": 4,
 "nbformat_minor": 2
}
